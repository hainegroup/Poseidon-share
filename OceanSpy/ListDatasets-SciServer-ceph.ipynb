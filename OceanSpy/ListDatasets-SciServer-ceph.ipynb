{
 "cells": [
  {
   "cell_type": "markdown",
   "id": "5e298fac-679e-40c1-b5c6-55874f22ad30",
   "metadata": {},
   "source": [
    "# Notebook to open all OceanSpy datasets on SciServer-ceph and display basic information about them.\n",
    "\n",
    "If the datasets fail to open, make sure that your SciServer container includes the Poseidon (ceph), Ocean Circulation (ceph) data volumes.\n",
    "\n",
    "TWNH Jan '23, Jun '24"
   ]
  },
  {
   "cell_type": "code",
   "execution_count": 2,
   "id": "5283fab2-1562-4884-8ed1-99eda7ee83c4",
   "metadata": {
    "execution": {
     "iopub.execute_input": "2024-06-24T11:32:24.177591Z",
     "iopub.status.busy": "2024-06-24T11:32:24.176771Z",
     "iopub.status.idle": "2024-06-24T11:32:24.306740Z",
     "shell.execute_reply": "2024-06-24T11:32:24.305923Z",
     "shell.execute_reply.started": "2024-06-24T11:32:24.177566Z"
    },
    "tags": []
   },
   "outputs": [
    {
     "name": "stdout",
     "output_type": "stream",
     "text": [
      "['get_started', 'IGPwinter', 'EGshelfIIseas2km_ASR_full', 'EGshelfIIseas2km_ASR_crop', 'EGshelfIIseas2km_ERAI_6H', 'EGshelfIIseas2km_ERAI_1D', 'EGshelfSJsec500m_3H_hydro', 'EGshelfSJsec500m_6H_hydro', 'EGshelfSJsec500m_3H_NONhydro', 'EGshelfSJsec500m_6H_NONhydro', 'Arctic_Control', 'KangerFjord', 'HYCOM', 'LLC4320', 'ECCO', 'daily_ecco', 'ETOPO']\n"
     ]
    }
   ],
   "source": [
    "import oceanspy as ospy\n",
    "import urllib as _urllib\n",
    "import yaml as _yaml\n",
    "\n",
    "url = (\"https://raw.githubusercontent.com/hainegroup/oceanspy/\"\n",
    "       \"main/sciserver_catalogs/datasets_list.yaml\")\n",
    "f = _urllib.request.urlopen(url)\n",
    "SCISERVER_DATASETS = _yaml.safe_load(f)[\"datasets\"][\"sciserver\"]\n",
    "print(SCISERVER_DATASETS)"
   ]
  },
  {
   "cell_type": "code",
   "execution_count": 3,
   "id": "c57b7bd3-eefe-49c8-820f-affd8160dd7b",
   "metadata": {
    "execution": {
     "iopub.execute_input": "2024-06-24T11:32:34.978938Z",
     "iopub.status.busy": "2024-06-24T11:32:34.978389Z",
     "iopub.status.idle": "2024-06-24T11:32:35.519000Z",
     "shell.execute_reply": "2024-06-24T11:32:35.518073Z",
     "shell.execute_reply.started": "2024-06-24T11:32:34.978915Z"
    },
    "tags": []
   },
   "outputs": [
    {
     "name": "stdout",
     "output_type": "stream",
     "text": [
      "Opening get_started.\n",
      "FAILED to open get_started\n",
      "\n",
      "\n",
      "Opening IGPwinter.\n",
      "FAILED to open IGPwinter\n",
      "\n",
      "\n",
      "Opening EGshelfIIseas2km_ASR_full.\n",
      "FAILED to open EGshelfIIseas2km_ASR_full\n",
      "\n",
      "\n",
      "Opening EGshelfIIseas2km_ASR_crop.\n",
      "FAILED to open EGshelfIIseas2km_ASR_crop\n",
      "\n",
      "\n",
      "Opening EGshelfIIseas2km_ERAI_6H.\n",
      "FAILED to open EGshelfIIseas2km_ERAI_6H\n",
      "\n",
      "\n",
      "Opening EGshelfIIseas2km_ERAI_1D.\n",
      "FAILED to open EGshelfIIseas2km_ERAI_1D\n",
      "\n",
      "\n",
      "Opening EGshelfSJsec500m_3H_hydro.\n",
      "FAILED to open EGshelfSJsec500m_3H_hydro\n",
      "\n",
      "\n",
      "Opening EGshelfSJsec500m_6H_hydro.\n",
      "FAILED to open EGshelfSJsec500m_6H_hydro\n",
      "\n",
      "\n",
      "Opening EGshelfSJsec500m_3H_NONhydro.\n",
      "FAILED to open EGshelfSJsec500m_3H_NONhydro\n",
      "\n",
      "\n",
      "Opening EGshelfSJsec500m_6H_NONhydro.\n",
      "FAILED to open EGshelfSJsec500m_6H_NONhydro\n",
      "\n",
      "\n",
      "Opening Arctic_Control.\n",
      "FAILED to open Arctic_Control\n",
      "\n",
      "\n",
      "Opening KangerFjord.\n",
      "FAILED to open KangerFjord\n",
      "\n",
      "\n",
      "Opening HYCOM.\n",
      "FAILED to open HYCOM\n",
      "\n",
      "\n",
      "Opening LLC4320.\n",
      "FAILED to open LLC4320\n",
      "\n",
      "\n",
      "Opening ECCO.\n",
      "FAILED to open ECCO\n",
      "\n",
      "\n",
      "Opening daily_ecco.\n",
      "FAILED to open daily_ecco\n",
      "\n",
      "\n",
      "Opening ETOPO.\n",
      "FAILED to open ETOPO\n",
      "\n",
      "\n"
     ]
    }
   ],
   "source": [
    "for dataset in SCISERVER_DATASETS:\n",
    "    try:\n",
    "        od = ospy.open_oceandataset.from_catalog(dataset)\n",
    "        print('Data volume = ' + str(od.dataset.nbytes * 1.0e-12) + ' TB')\n",
    "        print(od.dataset)\n",
    "    except:\n",
    "        print(f'FAILED to open {dataset}')\n",
    "    print('\\n')"
   ]
  },
  {
   "cell_type": "code",
   "execution_count": null,
   "id": "475dc0bf-8713-4815-abfe-968bdf5f8717",
   "metadata": {},
   "outputs": [],
   "source": []
  }
 ],
 "metadata": {
  "kernelspec": {
   "display_name": "Python 3.9 (py39)",
   "language": "python",
   "name": "py39"
  },
  "language_info": {
   "codemirror_mode": {
    "name": "ipython",
    "version": 3
   },
   "file_extension": ".py",
   "mimetype": "text/x-python",
   "name": "python",
   "nbconvert_exporter": "python",
   "pygments_lexer": "ipython3",
   "version": "3.9.13"
  }
 },
 "nbformat": 4,
 "nbformat_minor": 5
}
