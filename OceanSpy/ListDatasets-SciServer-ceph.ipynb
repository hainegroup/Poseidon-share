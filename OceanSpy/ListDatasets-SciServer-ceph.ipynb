{
 "cells": [
  {
   "cell_type": "markdown",
   "id": "5e298fac-679e-40c1-b5c6-55874f22ad30",
   "metadata": {},
   "source": [
    "# Notebook to open all OceanSpy datasets on SciServer-ceph and display basic information about them.\n",
    "\n",
    "If the datasets fail to open, make sure that your SciServer container includes the Poseidon (ceph), Ocean Circulation (ceph) data volumes.\n",
    "\n",
    "TWNH Jan '23, Jun '24"
   ]
  },
  {
   "cell_type": "code",
   "execution_count": 1,
   "id": "5283fab2-1562-4884-8ed1-99eda7ee83c4",
   "metadata": {
    "execution": {
     "iopub.execute_input": "2024-06-24T12:41:57.109646Z",
     "iopub.status.busy": "2024-06-24T12:41:57.108896Z",
     "iopub.status.idle": "2024-06-24T12:41:58.133283Z",
     "shell.execute_reply": "2024-06-24T12:41:58.132311Z",
     "shell.execute_reply.started": "2024-06-24T12:41:57.109602Z"
    },
    "tags": []
   },
   "outputs": [
    {
     "name": "stdout",
     "output_type": "stream",
     "text": [
      "0.1.dev1197+g1f6808b\n",
      "['get_started', 'IGPwinter', 'EGshelfIIseas2km_ASR_full', 'EGshelfIIseas2km_ASR_crop', 'EGshelfIIseas2km_ERAI_6H', 'EGshelfIIseas2km_ERAI_1D', 'EGshelfSJsec500m_3H_hydro', 'EGshelfSJsec500m_6H_hydro', 'EGshelfSJsec500m_3H_NONhydro', 'EGshelfSJsec500m_6H_NONhydro', 'Arctic_Control', 'KangerFjord', 'HYCOM', 'LLC4320', 'ECCO', 'daily_ecco', 'ETOPO']\n"
     ]
    }
   ],
   "source": [
    "import oceanspy as ospy\n",
    "import urllib as _urllib\n",
    "import yaml as _yaml\n",
    "\n",
    "print(ospy.__version__)      # Version information\n",
    "\n",
    "url = (\"https://raw.githubusercontent.com/hainegroup/oceanspy/\"\n",
    "       \"main/sciserver_catalogs/datasets_list.yaml\")\n",
    "f = _urllib.request.urlopen(url)\n",
    "SCISERVER_DATASETS = _yaml.safe_load(f)[\"datasets\"][\"sciserver\"]\n",
    "print(SCISERVER_DATASETS)"
   ]
  },
  {
   "cell_type": "code",
   "execution_count": 2,
   "id": "19e55a50-5838-41d3-b6e3-8a64eddf332d",
   "metadata": {
    "execution": {
     "iopub.execute_input": "2024-06-24T12:42:00.550848Z",
     "iopub.status.busy": "2024-06-24T12:42:00.550170Z",
     "iopub.status.idle": "2024-06-24T12:42:01.155495Z",
     "shell.execute_reply": "2024-06-24T12:42:01.154632Z",
     "shell.execute_reply.started": "2024-06-24T12:42:00.550828Z"
    },
    "tags": []
   },
   "outputs": [
    {
     "name": "stdout",
     "output_type": "stream",
     "text": [
      "Opening get_started.\n"
     ]
    },
    {
     "ename": "ValueError",
     "evalue": "No plugins loaded for this entry: netcdf\nA listing of installable plugins can be found at https://intake.readthedocs.io/en/latest/plugin-directory.html .",
     "output_type": "error",
     "traceback": [
      "\u001b[0;31m---------------------------------------------------------------------------\u001b[0m",
      "\u001b[0;31mValueError\u001b[0m                                Traceback (most recent call last)",
      "Cell \u001b[0;32mIn [2], line 1\u001b[0m\n\u001b[0;32m----> 1\u001b[0m od \u001b[38;5;241m=\u001b[39m \u001b[43mospy\u001b[49m\u001b[38;5;241;43m.\u001b[39;49m\u001b[43mopen_oceandataset\u001b[49m\u001b[38;5;241;43m.\u001b[39;49m\u001b[43mfrom_catalog\u001b[49m\u001b[43m(\u001b[49m\u001b[38;5;124;43m\"\u001b[39;49m\u001b[38;5;124;43mget_started\u001b[39;49m\u001b[38;5;124;43m\"\u001b[39;49m\u001b[43m)\u001b[49m\n",
      "File \u001b[0;32m~/workspace/Storage/Thomas.Haine/persistent/Poseidon testing/ceph-dev/oceanspy/oceanspy/open_oceandataset.py:138\u001b[0m, in \u001b[0;36mfrom_catalog\u001b[0;34m(name, catalog_url)\u001b[0m\n\u001b[1;32m    133\u001b[0m \u001b[38;5;28;01mfor\u001b[39;00m entry \u001b[38;5;129;01min\u001b[39;00m entries:\n\u001b[1;32m    134\u001b[0m     \u001b[38;5;28;01mif\u001b[39;00m intake_switch:\n\u001b[1;32m    135\u001b[0m         \u001b[38;5;66;03m# Use intake-xarray\u001b[39;00m\n\u001b[1;32m    136\u001b[0m \n\u001b[1;32m    137\u001b[0m         \u001b[38;5;66;03m# Pop metadata\u001b[39;00m\n\u001b[0;32m--> 138\u001b[0m         mtdt \u001b[38;5;241m=\u001b[39m \u001b[43mcat\u001b[49m\u001b[43m[\u001b[49m\u001b[43mentry\u001b[49m\u001b[43m]\u001b[49m\u001b[38;5;241m.\u001b[39mmetadata\n\u001b[1;32m    140\u001b[0m         \u001b[38;5;66;03m# Create ds\u001b[39;00m\n\u001b[1;32m    141\u001b[0m         ds \u001b[38;5;241m=\u001b[39m cat[entry]\u001b[38;5;241m.\u001b[39mto_dask()\n",
      "File \u001b[0;32m~/mambaforge/envs/py39/lib/python3.9/site-packages/intake/catalog/base.py:472\u001b[0m, in \u001b[0;36mCatalog.__getitem__\u001b[0;34m(self, key)\u001b[0m\n\u001b[1;32m    463\u001b[0m \u001b[38;5;124;03m\"\"\"Return a catalog entry by name.\u001b[39;00m\n\u001b[1;32m    464\u001b[0m \n\u001b[1;32m    465\u001b[0m \u001b[38;5;124;03mCan also use attribute syntax, like ``cat.entry_name``, or\u001b[39;00m\n\u001b[0;32m   (...)\u001b[0m\n\u001b[1;32m    468\u001b[0m \u001b[38;5;124;03mcat['name1', 'name2']\u001b[39;00m\n\u001b[1;32m    469\u001b[0m \u001b[38;5;124;03m\"\"\"\u001b[39;00m\n\u001b[1;32m    470\u001b[0m \u001b[38;5;28;01mif\u001b[39;00m \u001b[38;5;129;01mnot\u001b[39;00m \u001b[38;5;28misinstance\u001b[39m(key, \u001b[38;5;28mlist\u001b[39m) \u001b[38;5;129;01mand\u001b[39;00m key \u001b[38;5;129;01min\u001b[39;00m \u001b[38;5;28mself\u001b[39m:\n\u001b[1;32m    471\u001b[0m     \u001b[38;5;66;03m# triggers reload_on_change\u001b[39;00m\n\u001b[0;32m--> 472\u001b[0m     s \u001b[38;5;241m=\u001b[39m \u001b[38;5;28;43mself\u001b[39;49m\u001b[38;5;241;43m.\u001b[39;49m\u001b[43m_get_entry\u001b[49m\u001b[43m(\u001b[49m\u001b[43mkey\u001b[49m\u001b[43m)\u001b[49m\n\u001b[1;32m    473\u001b[0m     \u001b[38;5;28;01mif\u001b[39;00m s\u001b[38;5;241m.\u001b[39mcontainer \u001b[38;5;241m==\u001b[39m \u001b[38;5;124m\"\u001b[39m\u001b[38;5;124mcatalog\u001b[39m\u001b[38;5;124m\"\u001b[39m:\n\u001b[1;32m    474\u001b[0m         s\u001b[38;5;241m.\u001b[39mname \u001b[38;5;241m=\u001b[39m key\n",
      "File \u001b[0;32m~/mambaforge/envs/py39/lib/python3.9/site-packages/intake/catalog/utils.py:43\u001b[0m, in \u001b[0;36mreload_on_change.<locals>.wrapper\u001b[0;34m(self, *args, **kwargs)\u001b[0m\n\u001b[1;32m     40\u001b[0m \u001b[38;5;129m@functools\u001b[39m\u001b[38;5;241m.\u001b[39mwraps(f)\n\u001b[1;32m     41\u001b[0m \u001b[38;5;28;01mdef\u001b[39;00m \u001b[38;5;21mwrapper\u001b[39m(\u001b[38;5;28mself\u001b[39m, \u001b[38;5;241m*\u001b[39margs, \u001b[38;5;241m*\u001b[39m\u001b[38;5;241m*\u001b[39mkwargs):\n\u001b[1;32m     42\u001b[0m     \u001b[38;5;28mself\u001b[39m\u001b[38;5;241m.\u001b[39mreload()\n\u001b[0;32m---> 43\u001b[0m     \u001b[38;5;28;01mreturn\u001b[39;00m \u001b[43mf\u001b[49m\u001b[43m(\u001b[49m\u001b[38;5;28;43mself\u001b[39;49m\u001b[43m,\u001b[49m\u001b[43m \u001b[49m\u001b[38;5;241;43m*\u001b[39;49m\u001b[43margs\u001b[49m\u001b[43m,\u001b[49m\u001b[43m \u001b[49m\u001b[38;5;241;43m*\u001b[39;49m\u001b[38;5;241;43m*\u001b[39;49m\u001b[43mkwargs\u001b[49m\u001b[43m)\u001b[49m\n",
      "File \u001b[0;32m~/mambaforge/envs/py39/lib/python3.9/site-packages/intake/catalog/base.py:355\u001b[0m, in \u001b[0;36mCatalog._get_entry\u001b[0;34m(self, name)\u001b[0m\n\u001b[1;32m    353\u001b[0m ups \u001b[38;5;241m=\u001b[39m [up \u001b[38;5;28;01mfor\u001b[39;00m name, up \u001b[38;5;129;01min\u001b[39;00m \u001b[38;5;28mself\u001b[39m\u001b[38;5;241m.\u001b[39muser_parameters\u001b[38;5;241m.\u001b[39mitems() \u001b[38;5;28;01mif\u001b[39;00m name \u001b[38;5;129;01mnot\u001b[39;00m \u001b[38;5;129;01min\u001b[39;00m up_names]\n\u001b[1;32m    354\u001b[0m entry\u001b[38;5;241m.\u001b[39m_user_parameters \u001b[38;5;241m=\u001b[39m ups \u001b[38;5;241m+\u001b[39m (entry\u001b[38;5;241m.\u001b[39m_user_parameters \u001b[38;5;129;01mor\u001b[39;00m [])\n\u001b[0;32m--> 355\u001b[0m \u001b[38;5;28;01mreturn\u001b[39;00m \u001b[43mentry\u001b[49m\u001b[43m(\u001b[49m\u001b[43m)\u001b[49m\n",
      "File \u001b[0;32m~/mambaforge/envs/py39/lib/python3.9/site-packages/intake/catalog/entry.py:60\u001b[0m, in \u001b[0;36mCatalogEntry.__call__\u001b[0;34m(self, persist, **kwargs)\u001b[0m\n\u001b[1;32m     58\u001b[0m \u001b[38;5;28;01mdef\u001b[39;00m \u001b[38;5;21m__call__\u001b[39m(\u001b[38;5;28mself\u001b[39m, persist\u001b[38;5;241m=\u001b[39m\u001b[38;5;28;01mNone\u001b[39;00m, \u001b[38;5;241m*\u001b[39m\u001b[38;5;241m*\u001b[39mkwargs):\n\u001b[1;32m     59\u001b[0m     \u001b[38;5;124;03m\"\"\"Instantiate DataSource with given user arguments\"\"\"\u001b[39;00m\n\u001b[0;32m---> 60\u001b[0m     s \u001b[38;5;241m=\u001b[39m \u001b[38;5;28;43mself\u001b[39;49m\u001b[38;5;241;43m.\u001b[39;49m\u001b[43mget\u001b[49m\u001b[43m(\u001b[49m\u001b[38;5;241;43m*\u001b[39;49m\u001b[38;5;241;43m*\u001b[39;49m\u001b[43mkwargs\u001b[49m\u001b[43m)\u001b[49m\n\u001b[1;32m     61\u001b[0m     s\u001b[38;5;241m.\u001b[39m_entry \u001b[38;5;241m=\u001b[39m \u001b[38;5;28mself\u001b[39m\n\u001b[1;32m     62\u001b[0m     s\u001b[38;5;241m.\u001b[39m_passed_kwargs \u001b[38;5;241m=\u001b[39m \u001b[38;5;28mlist\u001b[39m(kwargs)\n",
      "File \u001b[0;32m~/mambaforge/envs/py39/lib/python3.9/site-packages/intake/catalog/local.py:312\u001b[0m, in \u001b[0;36mLocalCatalogEntry.get\u001b[0;34m(self, **user_parameters)\u001b[0m\n\u001b[1;32m    309\u001b[0m \u001b[38;5;28;01mif\u001b[39;00m \u001b[38;5;129;01mnot\u001b[39;00m user_parameters \u001b[38;5;129;01mand\u001b[39;00m \u001b[38;5;28mself\u001b[39m\u001b[38;5;241m.\u001b[39m_default_source \u001b[38;5;129;01mis\u001b[39;00m \u001b[38;5;129;01mnot\u001b[39;00m \u001b[38;5;28;01mNone\u001b[39;00m:\n\u001b[1;32m    310\u001b[0m     \u001b[38;5;28;01mreturn\u001b[39;00m \u001b[38;5;28mself\u001b[39m\u001b[38;5;241m.\u001b[39m_default_source\n\u001b[0;32m--> 312\u001b[0m plugin, open_args \u001b[38;5;241m=\u001b[39m \u001b[38;5;28;43mself\u001b[39;49m\u001b[38;5;241;43m.\u001b[39;49m\u001b[43m_create_open_args\u001b[49m\u001b[43m(\u001b[49m\u001b[43muser_parameters\u001b[49m\u001b[43m)\u001b[49m\n\u001b[1;32m    313\u001b[0m data_source \u001b[38;5;241m=\u001b[39m plugin(\u001b[38;5;241m*\u001b[39m\u001b[38;5;241m*\u001b[39mopen_args)\n\u001b[1;32m    314\u001b[0m data_source\u001b[38;5;241m.\u001b[39mcatalog_object \u001b[38;5;241m=\u001b[39m \u001b[38;5;28mself\u001b[39m\u001b[38;5;241m.\u001b[39m_catalog\n",
      "File \u001b[0;32m~/mambaforge/envs/py39/lib/python3.9/site-packages/intake/catalog/local.py:283\u001b[0m, in \u001b[0;36mLocalCatalogEntry._create_open_args\u001b[0;34m(self, user_parameters)\u001b[0m\n\u001b[1;32m    273\u001b[0m open_args \u001b[38;5;241m=\u001b[39m merge_pars(\n\u001b[1;32m    274\u001b[0m     params,\n\u001b[1;32m    275\u001b[0m     user_parameters,\n\u001b[0;32m   (...)\u001b[0m\n\u001b[1;32m    279\u001b[0m     client\u001b[38;5;241m=\u001b[39m\u001b[38;5;28;01mFalse\u001b[39;00m,\n\u001b[1;32m    280\u001b[0m )\n\u001b[1;32m    282\u001b[0m \u001b[38;5;28;01mif\u001b[39;00m \u001b[38;5;28mlen\u001b[39m(\u001b[38;5;28mself\u001b[39m\u001b[38;5;241m.\u001b[39m_plugin) \u001b[38;5;241m==\u001b[39m \u001b[38;5;241m0\u001b[39m:\n\u001b[0;32m--> 283\u001b[0m     \u001b[38;5;28;01mraise\u001b[39;00m \u001b[38;5;167;01mValueError\u001b[39;00m(\n\u001b[1;32m    284\u001b[0m         \u001b[38;5;124m\"\u001b[39m\u001b[38;5;124mNo plugins loaded for this entry: \u001b[39m\u001b[38;5;132;01m%s\u001b[39;00m\u001b[38;5;130;01m\\n\u001b[39;00m\u001b[38;5;124m\"\u001b[39m\n\u001b[1;32m    285\u001b[0m         \u001b[38;5;124m\"\u001b[39m\u001b[38;5;124mA listing of installable plugins can be found \u001b[39m\u001b[38;5;124m\"\u001b[39m\n\u001b[1;32m    286\u001b[0m         \u001b[38;5;124m\"\u001b[39m\u001b[38;5;124mat https://intake.readthedocs.io/en/latest/plugin\u001b[39m\u001b[38;5;124m\"\u001b[39m\n\u001b[1;32m    287\u001b[0m         \u001b[38;5;124m\"\u001b[39m\u001b[38;5;124m-directory.html .\u001b[39m\u001b[38;5;124m\"\u001b[39m \u001b[38;5;241m%\u001b[39m \u001b[38;5;28mself\u001b[39m\u001b[38;5;241m.\u001b[39m_driver\n\u001b[1;32m    288\u001b[0m     )\n\u001b[1;32m    289\u001b[0m \u001b[38;5;28;01melif\u001b[39;00m \u001b[38;5;28misinstance\u001b[39m(\u001b[38;5;28mself\u001b[39m\u001b[38;5;241m.\u001b[39m_plugin, \u001b[38;5;28mlist\u001b[39m):\n\u001b[1;32m    290\u001b[0m     plugin \u001b[38;5;241m=\u001b[39m \u001b[38;5;28mself\u001b[39m\u001b[38;5;241m.\u001b[39m_plugin[\u001b[38;5;241m0\u001b[39m]\n",
      "\u001b[0;31mValueError\u001b[0m: No plugins loaded for this entry: netcdf\nA listing of installable plugins can be found at https://intake.readthedocs.io/en/latest/plugin-directory.html ."
     ]
    }
   ],
   "source": [
    "od = ospy.open_oceandataset.from_catalog(\"get_started\")"
   ]
  },
  {
   "cell_type": "code",
   "execution_count": null,
   "id": "c57b7bd3-eefe-49c8-820f-affd8160dd7b",
   "metadata": {
    "tags": []
   },
   "outputs": [],
   "source": [
    "for dataset in SCISERVER_DATASETS:\n",
    "    try:\n",
    "        od = ospy.open_oceandataset.from_catalog(dataset)\n",
    "        print('Data volume = ' + str(od.dataset.nbytes * 1.0e-12) + ' TB')\n",
    "        print(od.dataset)\n",
    "    except:\n",
    "        print(f'FAILED to open {dataset}')\n",
    "    print('\\n')"
   ]
  },
  {
   "cell_type": "code",
   "execution_count": null,
   "id": "475dc0bf-8713-4815-abfe-968bdf5f8717",
   "metadata": {},
   "outputs": [],
   "source": []
  }
 ],
 "metadata": {
  "kernelspec": {
   "display_name": "Python 3.9 (py39)",
   "language": "python",
   "name": "py39"
  },
  "language_info": {
   "codemirror_mode": {
    "name": "ipython",
    "version": 3
   },
   "file_extension": ".py",
   "mimetype": "text/x-python",
   "name": "python",
   "nbconvert_exporter": "python",
   "pygments_lexer": "ipython3",
   "version": "3.9.13"
  }
 },
 "nbformat": 4,
 "nbformat_minor": 5
}
